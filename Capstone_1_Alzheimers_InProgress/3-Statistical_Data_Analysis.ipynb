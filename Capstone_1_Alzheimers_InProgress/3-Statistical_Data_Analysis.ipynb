{
 "cells": [
  {
   "cell_type": "markdown",
   "metadata": {},
   "source": [
    "# Statistical Data Analysis\n",
    "## ADNI Alzheimer's Data\n",
    "- Functions/algorithms used for calculating the statistics are in the sda module"
   ]
  },
  {
   "cell_type": "code",
   "execution_count": 1,
   "metadata": {},
   "outputs": [],
   "source": [
    "# import packages\n",
    "import numpy as np\n",
    "import pandas as pd\n",
    "import matplotlib.pyplot as plt\n",
    "import seaborn as sns\n",
    "%matplotlib inline\n",
    "\n",
    "# import wrangle_adni to import/wrangle the data\n",
    "from adnidatawrangling import wrangle_adni\n",
    "\n",
    "# import custom modules eda, sda\n",
    "# eda: exploratory data analysis module for additional functions\n",
    "# sda: statistical data analysis module\n",
    "import eda, sda\n",
    "\n",
    "# set seaborn defaults\n",
    "sns.set()"
   ]
  },
  {
   "cell_type": "code",
   "execution_count": 2,
   "metadata": {},
   "outputs": [],
   "source": [
    "# import data, clean, and extract data\n",
    "adni_comp, clin_data, scan_data = wrangle_adni()"
   ]
  },
  {
   "cell_type": "code",
   "execution_count": 3,
   "metadata": {},
   "outputs": [],
   "source": [
    "# extract final exam data: only the last exam for each patient\n",
    "final_exam = eda.get_final_exam(adni_comp)\n",
    "\n",
    "# calculate the change in variables over the course of the study\n",
    "eda.calc_deltas(final_exam)"
   ]
  },
  {
   "cell_type": "markdown",
   "metadata": {},
   "source": [
    "### Statistical Questions:\n",
    "- Change in biomarkers\n",
    "    - Is there a difference between males and females in the amount of change observed in biomarkers with progression towards Alzheimer's Disease (AD)?\n",
    "        - Further questions will be split by males/females if a difference is found\n",
    "        - Permutation sampling will be used here to test if males/females come from the same distribution with regards to the amount of change observed\n",
    "    - Which biomarkers show a statistically significant change as a person develops AD?\n",
    "    - In biomarkers that show a change, what amount of change is correlated with progression towards AD?\n",
    "- Biomarker baseline values as predictors of AD\n",
    "    - Are there statistically significant thresholds for baseline values of a biomarker that suggest a person will develop AD?\n",
    "        - How does this vary when including/excluding certain diagnosis groups?\n",
    "            1. Looking at the entire sample of patients (all baseline diagnoses, including those with AD already)\n",
    "            2. Only patients that were cognitively normal (CN) or had mild cognitive impairment (MCI) at baseline\n",
    "            3. Including only patients that were CN at baseline\n",
    "        - Exploratory data analysis suggests that there may be different thresholds for different genders"
   ]
  },
  {
   "cell_type": "markdown",
   "metadata": {},
   "source": [
    "#### Change in Biomarkers\n",
    "- From the exploratory data analysis, the following biomarkers were revealed as good candidates for statistical analysis\n",
    "    - Clinical tests: CDRSB, ADAS11, ADAS13, MMSE, RAVLT_immediate\n",
    "    - Brain scans: Hippocampus, Ventricles, WholeBrain, Entorhinal MidTemp\n",
    "- Approach\n",
    "    - As sample sizes are not very large, bootstrapping will be used to generate a distribution for the change in each biomarker for patients that showed no change in diagnosis during the study\n",
    "    - The null hypothesis is that when patients are divided into groups based on their change in diagnosis (CN to MCI, MCI to AD, CN to AD) all groups will have the same distribution as the group that ended the study with no change\n",
    "        - May have to examine whether patients with no change in diagnosis that are not CN (MCI to MCI and AD to AD) impact the results\n",
    "    - The alternative hypothesis is that the distributions for each group will be different enough that threshold values can be identified to signify beginning early treatment for MCI/AD or raising concerns about progression to AD\n",
    "        - A 'statistically significant' result of p < 0.05 is not necessarily needed to indicate that a change in a biomarker can be used to initiate early treatment, further monitoring, or further testing\n",
    "        - Instead, this analysis is looking for probability levels that show reasons for actions\n",
    "            - If someone told you that you had an 80% chance of developing AD, would you start doing brain exercises and puzzles, painting, or listening to classical music if you thought it might help at all?"
   ]
  },
  {
   "cell_type": "code",
   "execution_count": 4,
   "metadata": {},
   "outputs": [],
   "source": [
    "# divide the data by gender\n",
    "\n",
    "# replace this code with \n",
    "# fe_males, fe_females = divide_genders(final_exam)\n",
    "\n",
    "fe_males = final_exam[final_exam.PTGENDER == 'Male']\n",
    "fe_females = final_exam[final_exam.PTGENDER == 'Female']"
   ]
  },
  {
   "cell_type": "code",
   "execution_count": 5,
   "metadata": {},
   "outputs": [],
   "source": [
    "# test whether or not males and females have the same distribution for the change in each biomarker\n",
    "\n",
    "c_arr = np.array(final_exam['CDRSB_bl'])\n",
    "r_arr = np.random.permutation(c_arr)\n"
   ]
  },
  {
   "cell_type": "code",
   "execution_count": null,
   "metadata": {},
   "outputs": [],
   "source": []
  },
  {
   "cell_type": "code",
   "execution_count": null,
   "metadata": {},
   "outputs": [],
   "source": []
  },
  {
   "cell_type": "code",
   "execution_count": 6,
   "metadata": {},
   "outputs": [],
   "source": [
    "n_arr1 = r_arr[:len(final_exam[final_exam.PTGENDER == 'Male'])]"
   ]
  },
  {
   "cell_type": "code",
   "execution_count": 7,
   "metadata": {},
   "outputs": [],
   "source": [
    "n_arr2 = r_arr[len(final_exam[final_exam.PTGENDER == 'Female']):]"
   ]
  },
  {
   "cell_type": "code",
   "execution_count": 12,
   "metadata": {},
   "outputs": [
    {
     "data": {
      "text/plain": [
       "1.455607476635514"
      ]
     },
     "execution_count": 12,
     "metadata": {},
     "output_type": "execute_result"
    }
   ],
   "source": [
    "np.mean(n_arr1)"
   ]
  },
  {
   "cell_type": "code",
   "execution_count": 13,
   "metadata": {},
   "outputs": [
    {
     "data": {
      "text/plain": [
       "1.4065420560747663"
      ]
     },
     "execution_count": 13,
     "metadata": {},
     "output_type": "execute_result"
    }
   ],
   "source": [
    "np.mean(n_arr2)"
   ]
  },
  {
   "cell_type": "code",
   "execution_count": 14,
   "metadata": {},
   "outputs": [
    {
     "data": {
      "text/plain": [
       "1.4482905982905983"
      ]
     },
     "execution_count": 14,
     "metadata": {},
     "output_type": "execute_result"
    }
   ],
   "source": [
    "np.mean(c_arr)"
   ]
  },
  {
   "cell_type": "code",
   "execution_count": 8,
   "metadata": {},
   "outputs": [
    {
     "name": "stdout",
     "output_type": "stream",
     "text": [
      "p-value:  0.0008547008547008547\n"
     ]
    }
   ],
   "source": [
    "p = np.sum(np.mean(c_arr) >= abs((np.mean(n_arr1) - np.mean(n_arr2)))) / len(c_arr)\n",
    "print('p-value: ', p)"
   ]
  },
  {
   "cell_type": "code",
   "execution_count": 4,
   "metadata": {},
   "outputs": [
    {
     "name": "stdout",
     "output_type": "stream",
     "text": [
      "Distribution Test for Males/Females\n",
      "Variable:  CDRSB_bl\n",
      "If p < 0.05, then split the data by gender\n",
      "p-value:  0.0008547008547008547\n"
     ]
    }
   ],
   "source": [
    "sda.test_gender_deltas(final_exam, 'CDRSB_bl')"
   ]
  },
  {
   "cell_type": "code",
   "execution_count": 5,
   "metadata": {},
   "outputs": [
    {
     "name": "stdout",
     "output_type": "stream",
     "text": [
      "Distribution Test for Males/Females\n",
      "Variable:  ADAS11_bl\n",
      "If p < 0.05, then split the data by gender\n",
      "p-value:  0.0008547008547008547\n"
     ]
    }
   ],
   "source": [
    "sda.test_gender_deltas(final_exam, 'ADAS11_bl')"
   ]
  },
  {
   "cell_type": "code",
   "execution_count": null,
   "metadata": {},
   "outputs": [],
   "source": []
  },
  {
   "cell_type": "code",
   "execution_count": null,
   "metadata": {},
   "outputs": [],
   "source": []
  },
  {
   "cell_type": "markdown",
   "metadata": {},
   "source": [
    "#### CDRSB Change"
   ]
  },
  {
   "cell_type": "code",
   "execution_count": 16,
   "metadata": {},
   "outputs": [],
   "source": [
    "# is the amount of change in each biomarker consistent between males/females\n",
    "\n"
   ]
  },
  {
   "cell_type": "code",
   "execution_count": 8,
   "metadata": {},
   "outputs": [],
   "source": [
    "# divide data into groups based on change in diagnosis\n",
    "\n",
    "# replace this codeblock with \n",
    "# no_change, cn_mci, mci_ad, cn_ad = sda.get_deltadx_groups()\n",
    "\n",
    "# isolate patients with no diagnosis change\n",
    "no_change = final_exam[final_exam['DX'] == final_exam['DX_bl2']]\n",
    "    \n",
    "# isolate patients who progressed from 'CN' to 'AD'\n",
    "cn_mci = final_exam[(final_exam['DX'] == 'MCI') & (final_exam['DX_bl2'] == 'CN')]\n",
    "    \n",
    "# isolate patients who progressed from 'MCI' to 'AD'\n",
    "mci_ad = final_exam[(final_exam['DX'] == 'AD') & (final_exam['DX_bl2'] == 'MCI')]\n",
    "    \n",
    "# isolate patients who progressed from 'CN' to 'AD'\n",
    "cn_ad = final_exam[(final_exam['DX'] == 'AD') & (final_exam['DX_bl2'] == 'CN')]"
   ]
  },
  {
   "cell_type": "code",
   "execution_count": null,
   "metadata": {},
   "outputs": [],
   "source": []
  },
  {
   "cell_type": "code",
   "execution_count": null,
   "metadata": {},
   "outputs": [],
   "source": []
  },
  {
   "cell_type": "code",
   "execution_count": null,
   "metadata": {},
   "outputs": [],
   "source": []
  },
  {
   "cell_type": "code",
   "execution_count": null,
   "metadata": {},
   "outputs": [],
   "source": []
  },
  {
   "cell_type": "markdown",
   "metadata": {},
   "source": [
    "#### Baseline Values for Predicting Alzheimer's Disease\n",
    "- From the exploratory data analysis, the following biomarkers emerged as good candidates for statistical testing\n",
    "    - Clinical tests: ADAS11 and ADAS13\n",
    "    - Brain scans: Hippocampus and MidTemp\n",
    "- Approach\n",
    "    - The data will be divided by final diagnosis into two groups: those that ended the study with AD and those that didn't\n",
    "    - Because the sample sizes are relatively small, bootstrap distributions will be generated for each group\n",
    "    - The null hypothesis is that both the group that ended with AD and the non AD group will have the same distribution of baseline values\n",
    "    - The alternative hypothesis is that the group that ended the study with AD will have a different baseline distribution for the analyzed biomarkers\n",
    "        - Again, 'statistical significance' of p < 0.05 is not necessarily needed to find value in using baseline values for a biomarker to predict progression to AD\n",
    "        - Intead, the probability of having certain baseline values will be examined, taking into account the probability that someone will not progress to AD with a certain baseline value and the probability that someone will progress to AD with their observed baseline value"
   ]
  }
 ],
 "metadata": {
  "kernelspec": {
   "display_name": "Python 3",
   "language": "python",
   "name": "python3"
  },
  "language_info": {
   "codemirror_mode": {
    "name": "ipython",
    "version": 3
   },
   "file_extension": ".py",
   "mimetype": "text/x-python",
   "name": "python",
   "nbconvert_exporter": "python",
   "pygments_lexer": "ipython3",
   "version": "3.7.3"
  }
 },
 "nbformat": 4,
 "nbformat_minor": 4
}
