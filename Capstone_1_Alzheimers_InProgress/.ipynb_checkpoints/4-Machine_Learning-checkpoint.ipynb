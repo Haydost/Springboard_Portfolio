{
 "cells": [
  {
   "cell_type": "markdown",
   "metadata": {},
   "source": [
    "# Alzheimer's Disease Capstone Project\n",
    "## Machine Learning and Predictive Modeling"
   ]
  },
  {
   "cell_type": "markdown",
   "metadata": {},
   "source": [
    "The two primary questions that this analysis is trying to answer are:\n",
    "1. Which biomarkers are correlated with a change in diagnosis to Alzheimer's Disease?\n",
    "2. Which biomarkers might be able to predict a final diagnosis of Alzhiemer's Disease at an initial visit?"
   ]
  },
  {
   "cell_type": "code",
   "execution_count": 31,
   "metadata": {},
   "outputs": [],
   "source": [
    "# load packages\n",
    "\n",
    "import pandas as pd\n",
    "import numpy as np\n",
    "import seaborn as sns\n",
    "import matplotlib.pyplot as plt\n",
    "\n",
    "from sklearn.preprocessing import StandardScaler\n",
    "from sklearn.pipeline import Pipeline\n",
    "from sklearn.multiclass import OneVsRestClassifier\n",
    "from sklearn import linear_model\n",
    "from sklearn.naive_bayes import MultinomialNB\n",
    "from sklearn.neighbors import KNeighborsClassifier\n",
    "from sklearn.model_selection import train_test_split, cross_val_score, GridSearchCV\n",
    "from sklearn.decomposition import PCA\n",
    "from sklearn.metrics import roc_curve, roc_auc_score, confusion_matrix, classification_report\n",
    "\n",
    "# load custom modules\n",
    "from adnidatawrangling import wrangle_adni\n",
    "import eda, ml\n",
    "\n",
    "# set default plotting\n",
    "plt.style.use('ggplot')"
   ]
  },
  {
   "cell_type": "markdown",
   "metadata": {},
   "source": [
    "## 1. Which Biomarkers Are Correlated with a Progression Towards Alzheimer's Disease?\n",
    "- Steps\n",
    "    - Prepare data for analysis\n",
    "        - Import/wrangle/clean\n",
    "        - Extract the last exam and basline data\n",
    "        - Calculate the change for each variables (deltas)\n",
    "        - Extract the features and standardize the data\n",
    "        - Separate the target and feature data"
   ]
  },
  {
   "cell_type": "code",
   "execution_count": 2,
   "metadata": {},
   "outputs": [],
   "source": [
    "# import data, clean, and extract data\n",
    "adni_comp, clin_data, scan_data = wrangle_adni()\n",
    "\n",
    "# extract final exam data: only the last exam for each patient\n",
    "final_exam = eda.get_final_exam(adni_comp)\n",
    "\n",
    "# calculate the change in variables over the course of the study\n",
    "eda.calc_deltas(final_exam)\n",
    "\n",
    "# extract and scale the deltas data for ML analysis\n",
    "feature_names, Xd, yd = ml.get_delta_scaled(final_exam)"
   ]
  },
  {
   "cell_type": "code",
   "execution_count": 3,
   "metadata": {},
   "outputs": [
    {
     "name": "stdout",
     "output_type": "stream",
     "text": [
      "(11,)\n",
      "(1134, 11) (1134,)\n"
     ]
    }
   ],
   "source": [
    "# examine the structure of the data\n",
    "print(feature_names.shape)\n",
    "print(Xd.shape, yd.shape)"
   ]
  },
  {
   "cell_type": "code",
   "execution_count": 4,
   "metadata": {},
   "outputs": [],
   "source": [
    "# split the data into test and train sets\n",
    "Xd_train, Xd_test, yd_train, yd_test = train_test_split(Xd, yd, test_size=0.3, \n",
    "                                                    random_state=21, stratify=yd)"
   ]
  },
  {
   "cell_type": "markdown",
   "metadata": {},
   "source": [
    "#### First Model k-Nearest Neighbors Classification\n",
    "- The first model will try k-NN to predict the groups\n",
    "- First, the best k will be chosen\n",
    "    - Graphic approach\n",
    "    - GridSearchCV approach"
   ]
  },
  {
   "cell_type": "code",
   "execution_count": 5,
   "metadata": {},
   "outputs": [
    {
     "data": {
      "image/png": "[encoded data removed]",
      "text/plain": [
       "<Figure size 432x288 with 1 Axes>"
      ]
     },
     "metadata": {},
     "output_type": "display_data"
    }
   ],
   "source": [
    "# plot the training and test accuracy with varying k values\n",
    "ml.plot_best_k(Xd_train, Xd_test, yd_train, yd_test, kmax=20)"
   ]
  },
  {
   "cell_type": "markdown",
   "metadata": {},
   "source": [
    "- This approach suggests 5 nearest neighbors is a good number, though the highest peak in test accuracy was at 13 neighbors"
   ]
  },
  {
   "cell_type": "code",
   "execution_count": 6,
   "metadata": {},
   "outputs": [
    {
     "name": "stdout",
     "output_type": "stream",
     "text": [
      "{'n_neighbors': 13} 0.8701134930643127\n"
     ]
    }
   ],
   "source": [
    "# find best k using GridSearchCV\n",
    "param_grid = {'n_neighbors': np.arange(1, 50)}\n",
    "\n",
    "knn = KNeighborsClassifier()\n",
    "\n",
    "knn_cv = GridSearchCV(knn, param_grid, cv=3)\n",
    "\n",
    "knn_cv.fit(Xd_train, yd_train)\n",
    "\n",
    "# print the best value(s) for each hyperparameter and the mean of the best validation score\n",
    "print(knn_cv.best_params_, knn_cv.best_score_)"
   ]
  },
  {
   "cell_type": "markdown",
   "metadata": {},
   "source": [
    "- GridSearchCV also suggests 13 is the best number of neighbors to use"
   ]
  },
  {
   "cell_type": "markdown",
   "metadata": {},
   "source": [
    "#### k-Nearest Neighbors Model in Action"
   ]
  },
  {
   "cell_type": "code",
   "execution_count": 17,
   "metadata": {},
   "outputs": [
    {
     "name": "stdout",
     "output_type": "stream",
     "text": [
      "[[  0   0   2   0]\n",
      " [  0   0   2   9]\n",
      " [  0   0  21  32]\n",
      " [  0   0   6 269]]\n"
     ]
    }
   ],
   "source": [
    "# create the model\n",
    "knn = KNeighborsClassifier(n_neighbors=13)\n",
    "\n",
    "# fit the model\n",
    "knn.fit(Xd_train, yd_train)\n",
    "\n",
    "# generate predictions\n",
    "y_pred = knn.predict(Xd_test)\n",
    "\n",
    "# print the confusion matrix\n",
    "print(confusion_matrix(yd_test, y_pred))"
   ]
  },
  {
   "cell_type": "code",
   "execution_count": 32,
   "metadata": {},
   "outputs": [
    {
     "name": "stdout",
     "output_type": "stream",
     "text": [
      "              precision    recall  f1-score   support\n",
      "\n",
      "    CN to AD       0.00      0.00      0.00         2\n",
      "   CN to MCI       0.00      0.00      0.00        11\n",
      "   MCI to AD       0.68      0.40      0.50        53\n",
      "   No Change       0.87      0.98      0.92       275\n",
      "\n",
      "    accuracy                           0.85       341\n",
      "   macro avg       0.39      0.34      0.35       341\n",
      "weighted avg       0.81      0.85      0.82       341\n",
      "\n"
     ]
    },
    {
     "name": "stderr",
     "output_type": "stream",
     "text": [
      "C:\\Users\\chuck.tucker\\AppData\\Local\\Continuum\\anaconda3\\lib\\site-packages\\sklearn\\metrics\\classification.py:1437: UndefinedMetricWarning: Precision and F-score are ill-defined and being set to 0.0 in labels with no predicted samples.\n",
      "  'precision', 'predicted', average, warn_for)\n"
     ]
    }
   ],
   "source": [
    "print(classification_report(yd_test, y_pred))"
   ]
  },
  {
   "cell_type": "markdown",
   "metadata": {},
   "source": [
    "- In this case, the accuracy score is not the best measure of model performance. The confusion matrix shows that 269 where predicted correctly for just one category, due to the unbalanced nature of the data.\n",
    "- The f1-score along with precision and recall are better for evaluating this model. It does a really good job of predicting no change in patients, however, this model failed to predict change in diagnosis from CN to AD or from CN to MCI in all cases. The model also failed to predict 60% of the patients that progressed from MCI to AD.\n",
    "- This model is not effective for predicting a change in diagnosis to Alzheimer's Disease."
   ]
  },
  {
   "cell_type": "code",
   "execution_count": 24,
   "metadata": {},
   "outputs": [],
   "source": []
  },
  {
   "cell_type": "code",
   "execution_count": null,
   "metadata": {},
   "outputs": [],
   "source": []
  },
  {
   "cell_type": "code",
   "execution_count": null,
   "metadata": {},
   "outputs": [],
   "source": []
  },
  {
   "cell_type": "code",
   "execution_count": null,
   "metadata": {},
   "outputs": [],
   "source": []
  },
  {
   "cell_type": "code",
   "execution_count": null,
   "metadata": {},
   "outputs": [],
   "source": []
  },
  {
   "cell_type": "code",
   "execution_count": 7,
   "metadata": {},
   "outputs": [],
   "source": [
    "# old code for reference"
   ]
  },
  {
   "cell_type": "code",
   "execution_count": 8,
   "metadata": {},
   "outputs": [],
   "source": [
    "# map the diagnosis group and assign to dx_group\n",
    "nc_idx = final_exam[final_exam.DX == final_exam.DX_bl2].index\n",
    "cn_mci_idx = final_exam[(final_exam.DX == 'MCI') & (final_exam.DX_bl2 == 'CN')].index\n",
    "mci_ad_idx = final_exam[(final_exam.DX == 'AD') & (final_exam.DX_bl2 == 'MCI')].index\n",
    "cn_ad_idx = final_exam[(final_exam.DX == 'AD') & (final_exam.DX_bl2 == 'CN')].index\n",
    "\n",
    "labels = pd.concat([pd.DataFrame({'dx_group': 'No Change'}, index=nc_idx),\n",
    "                    pd.DataFrame({'dx_group': 'CN to MCI'}, index=cn_mci_idx),\n",
    "                    pd.DataFrame({'dx_group': 'MCI to AD'}, index=mci_ad_idx),\n",
    "                    pd.DataFrame({'dx_group': 'CN to AD'}, index=cn_ad_idx)\n",
    "                   ]).sort_index()"
   ]
  },
  {
   "cell_type": "code",
   "execution_count": 9,
   "metadata": {},
   "outputs": [],
   "source": [
    "# add to the dataframe and ensure every row has a label\n",
    "deltas_df = final_exam.loc[labels.index]\n",
    "deltas_df.loc[:,'dx_group'] = labels.dx_group "
   ]
  },
  {
   "cell_type": "code",
   "execution_count": 10,
   "metadata": {},
   "outputs": [
    {
     "data": {
      "text/plain": [
       "pandas.core.frame.DataFrame"
      ]
     },
     "execution_count": 10,
     "metadata": {},
     "output_type": "execute_result"
    }
   ],
   "source": [
    "type(deltas_df)"
   ]
  },
  {
   "cell_type": "code",
   "execution_count": 11,
   "metadata": {},
   "outputs": [
    {
     "data": {
      "text/html": [
       "<div>\n",
       "<style scoped>\n",
       "    .dataframe tbody tr th:only-of-type {\n",
       "        vertical-align: middle;\n",
       "    }\n",
       "\n",
       "    .dataframe tbody tr th {\n",
       "        vertical-align: top;\n",
       "    }\n",
       "\n",
       "    .dataframe thead th {\n",
       "        text-align: right;\n",
       "    }\n",
       "</style>\n",
       "<table border=\"1\" class=\"dataframe\">\n",
       "  <thead>\n",
       "    <tr style=\"text-align: right;\">\n",
       "      <th></th>\n",
       "      <th>DX</th>\n",
       "      <th>DX_bl</th>\n",
       "      <th>EXAMDATE</th>\n",
       "      <th>EXAMDATE_bl</th>\n",
       "      <th>PTEDUCAT</th>\n",
       "      <th>Month</th>\n",
       "      <th>AGE</th>\n",
       "      <th>CDRSB</th>\n",
       "      <th>CDRSB_bl</th>\n",
       "      <th>ADAS11</th>\n",
       "      <th>...</th>\n",
       "      <th>ADAS13_delta</th>\n",
       "      <th>MMSE_delta</th>\n",
       "      <th>RAVLT_delta</th>\n",
       "      <th>Hippocampus_delta</th>\n",
       "      <th>Ventricles_delta</th>\n",
       "      <th>WholeBrain_delta</th>\n",
       "      <th>Entorhinal_delta</th>\n",
       "      <th>MidTemp_delta</th>\n",
       "      <th>dx_group</th>\n",
       "      <th>PTGENDER_Male</th>\n",
       "    </tr>\n",
       "  </thead>\n",
       "  <tbody>\n",
       "    <tr>\n",
       "      <th>3</th>\n",
       "      <td>AD</td>\n",
       "      <td>AD</td>\n",
       "      <td>2007-09-12</td>\n",
       "      <td>2005-09-12</td>\n",
       "      <td>18</td>\n",
       "      <td>24</td>\n",
       "      <td>81.3</td>\n",
       "      <td>8</td>\n",
       "      <td>4.5</td>\n",
       "      <td>25.67</td>\n",
       "      <td>...</td>\n",
       "      <td>6.67</td>\n",
       "      <td>-1</td>\n",
       "      <td>1</td>\n",
       "      <td>-180</td>\n",
       "      <td>12821</td>\n",
       "      <td>-41270</td>\n",
       "      <td>-616</td>\n",
       "      <td>-2024</td>\n",
       "      <td>No Change</td>\n",
       "      <td>1</td>\n",
       "    </tr>\n",
       "    <tr>\n",
       "      <th>4</th>\n",
       "      <td>MCI</td>\n",
       "      <td>LMCI</td>\n",
       "      <td>2008-11-18</td>\n",
       "      <td>2005-11-08</td>\n",
       "      <td>10</td>\n",
       "      <td>36</td>\n",
       "      <td>67.5</td>\n",
       "      <td>1</td>\n",
       "      <td>1</td>\n",
       "      <td>18</td>\n",
       "      <td>...</td>\n",
       "      <td>3.67</td>\n",
       "      <td>-2</td>\n",
       "      <td>7</td>\n",
       "      <td>-656</td>\n",
       "      <td>5649</td>\n",
       "      <td>-69630</td>\n",
       "      <td>-931</td>\n",
       "      <td>-681</td>\n",
       "      <td>No Change</td>\n",
       "      <td>1</td>\n",
       "    </tr>\n",
       "    <tr>\n",
       "      <th>5</th>\n",
       "      <td>CN</td>\n",
       "      <td>CN</td>\n",
       "      <td>2008-09-10</td>\n",
       "      <td>2005-09-07</td>\n",
       "      <td>16</td>\n",
       "      <td>36</td>\n",
       "      <td>73.7</td>\n",
       "      <td>1</td>\n",
       "      <td>0</td>\n",
       "      <td>6.67</td>\n",
       "      <td>...</td>\n",
       "      <td>-3</td>\n",
       "      <td>1</td>\n",
       "      <td>5</td>\n",
       "      <td>-680</td>\n",
       "      <td>7594</td>\n",
       "      <td>-36140</td>\n",
       "      <td>-828</td>\n",
       "      <td>-1216</td>\n",
       "      <td>No Change</td>\n",
       "      <td>1</td>\n",
       "    </tr>\n",
       "    <tr>\n",
       "      <th>6</th>\n",
       "      <td>MCI</td>\n",
       "      <td>LMCI</td>\n",
       "      <td>2008-12-08</td>\n",
       "      <td>2005-11-29</td>\n",
       "      <td>13</td>\n",
       "      <td>36</td>\n",
       "      <td>80.4</td>\n",
       "      <td>2</td>\n",
       "      <td>0.5</td>\n",
       "      <td>17.67</td>\n",
       "      <td>...</td>\n",
       "      <td>1</td>\n",
       "      <td>-3</td>\n",
       "      <td>-4</td>\n",
       "      <td>-439</td>\n",
       "      <td>6723</td>\n",
       "      <td>-3107</td>\n",
       "      <td>32</td>\n",
       "      <td>-446</td>\n",
       "      <td>No Change</td>\n",
       "      <td>0</td>\n",
       "    </tr>\n",
       "    <tr>\n",
       "      <th>7</th>\n",
       "      <td>AD</td>\n",
       "      <td>AD</td>\n",
       "      <td>2006-04-13</td>\n",
       "      <td>2005-10-06</td>\n",
       "      <td>10</td>\n",
       "      <td>6</td>\n",
       "      <td>75.4</td>\n",
       "      <td>6</td>\n",
       "      <td>6</td>\n",
       "      <td>32.67</td>\n",
       "      <td>...</td>\n",
       "      <td>5.34</td>\n",
       "      <td>3</td>\n",
       "      <td>2</td>\n",
       "      <td>41</td>\n",
       "      <td>1106</td>\n",
       "      <td>-16851</td>\n",
       "      <td>244</td>\n",
       "      <td>-915</td>\n",
       "      <td>No Change</td>\n",
       "      <td>1</td>\n",
       "    </tr>\n",
       "    <tr>\n",
       "      <th>...</th>\n",
       "      <td>...</td>\n",
       "      <td>...</td>\n",
       "      <td>...</td>\n",
       "      <td>...</td>\n",
       "      <td>...</td>\n",
       "      <td>...</td>\n",
       "      <td>...</td>\n",
       "      <td>...</td>\n",
       "      <td>...</td>\n",
       "      <td>...</td>\n",
       "      <td>...</td>\n",
       "      <td>...</td>\n",
       "      <td>...</td>\n",
       "      <td>...</td>\n",
       "      <td>...</td>\n",
       "      <td>...</td>\n",
       "      <td>...</td>\n",
       "      <td>...</td>\n",
       "      <td>...</td>\n",
       "      <td>...</td>\n",
       "      <td>...</td>\n",
       "    </tr>\n",
       "    <tr>\n",
       "      <th>5269</th>\n",
       "      <td>CN</td>\n",
       "      <td>SMC</td>\n",
       "      <td>2015-09-01</td>\n",
       "      <td>2013-08-20</td>\n",
       "      <td>16</td>\n",
       "      <td>24</td>\n",
       "      <td>64.9</td>\n",
       "      <td>0</td>\n",
       "      <td>0</td>\n",
       "      <td>3</td>\n",
       "      <td>...</td>\n",
       "      <td>-6</td>\n",
       "      <td>-2</td>\n",
       "      <td>11</td>\n",
       "      <td>-152</td>\n",
       "      <td>1541</td>\n",
       "      <td>-11960</td>\n",
       "      <td>-99</td>\n",
       "      <td>-81</td>\n",
       "      <td>No Change</td>\n",
       "      <td>1</td>\n",
       "    </tr>\n",
       "    <tr>\n",
       "      <th>5277</th>\n",
       "      <td>CN</td>\n",
       "      <td>SMC</td>\n",
       "      <td>2015-08-31</td>\n",
       "      <td>2013-08-28</td>\n",
       "      <td>15</td>\n",
       "      <td>24</td>\n",
       "      <td>71.8</td>\n",
       "      <td>0.5</td>\n",
       "      <td>0.5</td>\n",
       "      <td>7</td>\n",
       "      <td>...</td>\n",
       "      <td>4</td>\n",
       "      <td>-4</td>\n",
       "      <td>-19</td>\n",
       "      <td>-822</td>\n",
       "      <td>4454</td>\n",
       "      <td>-26322</td>\n",
       "      <td>-343</td>\n",
       "      <td>-358</td>\n",
       "      <td>No Change</td>\n",
       "      <td>0</td>\n",
       "    </tr>\n",
       "    <tr>\n",
       "      <th>5289</th>\n",
       "      <td>CN</td>\n",
       "      <td>SMC</td>\n",
       "      <td>2014-05-19</td>\n",
       "      <td>2013-11-11</td>\n",
       "      <td>16</td>\n",
       "      <td>6</td>\n",
       "      <td>59.7</td>\n",
       "      <td>0</td>\n",
       "      <td>0</td>\n",
       "      <td>4</td>\n",
       "      <td>...</td>\n",
       "      <td>-6</td>\n",
       "      <td>1</td>\n",
       "      <td>-16</td>\n",
       "      <td>-72</td>\n",
       "      <td>2035</td>\n",
       "      <td>-2530</td>\n",
       "      <td>-92</td>\n",
       "      <td>7</td>\n",
       "      <td>No Change</td>\n",
       "      <td>0</td>\n",
       "    </tr>\n",
       "    <tr>\n",
       "      <th>5290</th>\n",
       "      <td>CN</td>\n",
       "      <td>SMC</td>\n",
       "      <td>2015-10-01</td>\n",
       "      <td>2013-09-24</td>\n",
       "      <td>12</td>\n",
       "      <td>24</td>\n",
       "      <td>67</td>\n",
       "      <td>0</td>\n",
       "      <td>0</td>\n",
       "      <td>6</td>\n",
       "      <td>...</td>\n",
       "      <td>1</td>\n",
       "      <td>1</td>\n",
       "      <td>-1</td>\n",
       "      <td>-117</td>\n",
       "      <td>2111</td>\n",
       "      <td>-21310</td>\n",
       "      <td>-4</td>\n",
       "      <td>159</td>\n",
       "      <td>No Change</td>\n",
       "      <td>0</td>\n",
       "    </tr>\n",
       "    <tr>\n",
       "      <th>5292</th>\n",
       "      <td>CN</td>\n",
       "      <td>SMC</td>\n",
       "      <td>2015-11-19</td>\n",
       "      <td>2013-11-12</td>\n",
       "      <td>13</td>\n",
       "      <td>24</td>\n",
       "      <td>74.3</td>\n",
       "      <td>0.5</td>\n",
       "      <td>0</td>\n",
       "      <td>3</td>\n",
       "      <td>...</td>\n",
       "      <td>0</td>\n",
       "      <td>-1</td>\n",
       "      <td>-10</td>\n",
       "      <td>-184</td>\n",
       "      <td>2287</td>\n",
       "      <td>-4720</td>\n",
       "      <td>2</td>\n",
       "      <td>-571</td>\n",
       "      <td>No Change</td>\n",
       "      <td>0</td>\n",
       "    </tr>\n",
       "  </tbody>\n",
       "</table>\n",
       "<p>1134 rows × 41 columns</p>\n",
       "</div>"
      ],
      "text/plain": [
       "       DX DX_bl   EXAMDATE EXAMDATE_bl PTEDUCAT Month   AGE CDRSB CDRSB_bl  \\\n",
       "3      AD    AD 2007-09-12  2005-09-12       18    24  81.3     8      4.5   \n",
       "4     MCI  LMCI 2008-11-18  2005-11-08       10    36  67.5     1        1   \n",
       "5      CN    CN 2008-09-10  2005-09-07       16    36  73.7     1        0   \n",
       "6     MCI  LMCI 2008-12-08  2005-11-29       13    36  80.4     2      0.5   \n",
       "7      AD    AD 2006-04-13  2005-10-06       10     6  75.4     6        6   \n",
       "...   ...   ...        ...         ...      ...   ...   ...   ...      ...   \n",
       "5269   CN   SMC 2015-09-01  2013-08-20       16    24  64.9     0        0   \n",
       "5277   CN   SMC 2015-08-31  2013-08-28       15    24  71.8   0.5      0.5   \n",
       "5289   CN   SMC 2014-05-19  2013-11-11       16     6  59.7     0        0   \n",
       "5290   CN   SMC 2015-10-01  2013-09-24       12    24    67     0        0   \n",
       "5292   CN   SMC 2015-11-19  2013-11-12       13    24  74.3   0.5        0   \n",
       "\n",
       "     ADAS11  ... ADAS13_delta MMSE_delta RAVLT_delta Hippocampus_delta  \\\n",
       "3     25.67  ...         6.67         -1           1              -180   \n",
       "4        18  ...         3.67         -2           7              -656   \n",
       "5      6.67  ...           -3          1           5              -680   \n",
       "6     17.67  ...            1         -3          -4              -439   \n",
       "7     32.67  ...         5.34          3           2                41   \n",
       "...     ...  ...          ...        ...         ...               ...   \n",
       "5269      3  ...           -6         -2          11              -152   \n",
       "5277      7  ...            4         -4         -19              -822   \n",
       "5289      4  ...           -6          1         -16               -72   \n",
       "5290      6  ...            1          1          -1              -117   \n",
       "5292      3  ...            0         -1         -10              -184   \n",
       "\n",
       "     Ventricles_delta WholeBrain_delta Entorhinal_delta MidTemp_delta  \\\n",
       "3               12821           -41270             -616         -2024   \n",
       "4                5649           -69630             -931          -681   \n",
       "5                7594           -36140             -828         -1216   \n",
       "6                6723            -3107               32          -446   \n",
       "7                1106           -16851              244          -915   \n",
       "...               ...              ...              ...           ...   \n",
       "5269             1541           -11960              -99           -81   \n",
       "5277             4454           -26322             -343          -358   \n",
       "5289             2035            -2530              -92             7   \n",
       "5290             2111           -21310               -4           159   \n",
       "5292             2287            -4720                2          -571   \n",
       "\n",
       "       dx_group PTGENDER_Male  \n",
       "3     No Change             1  \n",
       "4     No Change             1  \n",
       "5     No Change             1  \n",
       "6     No Change             0  \n",
       "7     No Change             1  \n",
       "...         ...           ...  \n",
       "5269  No Change             1  \n",
       "5277  No Change             0  \n",
       "5289  No Change             0  \n",
       "5290  No Change             0  \n",
       "5292  No Change             0  \n",
       "\n",
       "[1134 rows x 41 columns]"
      ]
     },
     "execution_count": 11,
     "metadata": {},
     "output_type": "execute_result"
    }
   ],
   "source": [
    "pd.get_dummies(deltas_df, drop_first=True, columns=['PTGENDER'])"
   ]
  },
  {
   "cell_type": "code",
   "execution_count": null,
   "metadata": {},
   "outputs": [],
   "source": []
  },
  {
   "cell_type": "code",
   "execution_count": null,
   "metadata": {},
   "outputs": [],
   "source": []
  },
  {
   "cell_type": "code",
   "execution_count": null,
   "metadata": {},
   "outputs": [],
   "source": []
  },
  {
   "cell_type": "code",
   "execution_count": null,
   "metadata": {},
   "outputs": [],
   "source": []
  },
  {
   "cell_type": "code",
   "execution_count": null,
   "metadata": {},
   "outputs": [],
   "source": []
  },
  {
   "cell_type": "code",
   "execution_count": null,
   "metadata": {},
   "outputs": [],
   "source": []
  },
  {
   "cell_type": "code",
   "execution_count": 12,
   "metadata": {},
   "outputs": [],
   "source": [
    "# extract the features for change in diagnosis\n",
    "X_delta_male = deltas_df[deltas_df.PTGENDER == 'Male'].reindex(columns=['CDRSB_delta', 'ADAS11_delta', \n",
    "                                                                        'ADAS13_delta', 'MMSE_delta',\n",
    "                                                                        'RAVLT_delta', 'Hippocampus_delta',\n",
    "                                                                        'Ventricles_delta', 'WholeBrain_delta',\n",
    "                                                                        'Entorhinal_delta', 'MidTemp_delta'])\n",
    "X_delta_female = deltas_df[deltas_df.PTGENDER == 'Female'].reindex(columns=['CDRSB_delta', 'ADAS11_delta', \n",
    "                                                                        'ADAS13_delta', 'MMSE_delta',\n",
    "                                                                        'RAVLT_delta', 'Hippocampus_delta',\n",
    "                                                                        'Ventricles_delta', 'WholeBrain_delta',\n",
    "                                                                        'Entorhinal_delta', 'MidTemp_delta'])"
   ]
  },
  {
   "cell_type": "code",
   "execution_count": 13,
   "metadata": {},
   "outputs": [],
   "source": [
    "male_scaler = StandardScaler()\n",
    "female_scaler = StandardScaler()\n",
    "Xd_male = male_scaler.fit_transform(X_delta_male)\n",
    "Xd_female = female_scaler.fit_transform(X_delta_female)"
   ]
  },
  {
   "cell_type": "code",
   "execution_count": null,
   "metadata": {},
   "outputs": [],
   "source": []
  },
  {
   "cell_type": "code",
   "execution_count": null,
   "metadata": {},
   "outputs": [],
   "source": []
  },
  {
   "cell_type": "code",
   "execution_count": 14,
   "metadata": {},
   "outputs": [],
   "source": [
    "# extract the labels\n",
    "yd_male = np.array(deltas_df[deltas_df.PTGENDER == 'Male'].dx_group)\n",
    "yd_female = np.array(deltas_df[deltas_df.PTGENDER == 'Female'].dx_group)"
   ]
  },
  {
   "cell_type": "code",
   "execution_count": 15,
   "metadata": {},
   "outputs": [
    {
     "name": "stdout",
     "output_type": "stream",
     "text": [
      "(624, 10) (624,)\n",
      "(510, 10) (510,)\n"
     ]
    }
   ],
   "source": [
    "print(X_delta_male.shape, yd_male.shape)\n",
    "print(X_delta_female.shape, yd_female.shape)"
   ]
  },
  {
   "cell_type": "code",
   "execution_count": null,
   "metadata": {},
   "outputs": [],
   "source": []
  },
  {
   "cell_type": "code",
   "execution_count": null,
   "metadata": {},
   "outputs": [],
   "source": []
  },
  {
   "cell_type": "code",
   "execution_count": null,
   "metadata": {},
   "outputs": [],
   "source": []
  }
 ],
 "metadata": {
  "kernelspec": {
   "display_name": "Python 3",
   "language": "python",
   "name": "python3"
  },
  "language_info": {
   "codemirror_mode": {
    "name": "ipython",
    "version": 3
   },
   "file_extension": ".py",
   "mimetype": "text/x-python",
   "name": "python",
   "nbconvert_exporter": "python",
   "pygments_lexer": "ipython3",
   "version": "3.7.3"
  }
 },
 "nbformat": 4,
 "nbformat_minor": 4
}
