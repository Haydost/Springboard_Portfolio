{
 "cells": [
  {
   "cell_type": "markdown",
   "metadata": {},
   "source": [
    "This exercise will require you to pull some data from the Qunadl API. Qaundl is currently the most widely used aggregator of financial market data."
   ]
  },
  {
   "cell_type": "markdown",
   "metadata": {},
   "source": [
    "As a first step, you will need to register a free account on the http://www.quandl.com website."
   ]
  },
  {
   "cell_type": "markdown",
   "metadata": {},
   "source": [
    "After you register, you will be provided with a unique API key, that you should store:"
   ]
  },
  {
   "cell_type": "code",
   "execution_count": 1,
   "metadata": {
    "collapsed": true
   },
   "outputs": [],
   "source": [
    "# Store the API key as a string - according to PEP8, constants are always named in all upper case\n",
    "# api key removed prior to saving and uploading to github\n",
    "API_KEY = ''"
   ]
  },
  {
   "cell_type": "markdown",
   "metadata": {},
   "source": [
    "Qaundl has a large number of data sources, but, unfortunately, most of them require a Premium subscription. Still, there are also a good number of free datasets."
   ]
  },
  {
   "cell_type": "markdown",
   "metadata": {},
   "source": [
    "For this mini project, we will focus on equities data from the Frankfurt Stock Exhange (FSE), which is available for free. We'll try and analyze the stock prices of a company called Carl Zeiss Meditec, which manufactures tools for eye examinations, as well as medical lasers for laser eye surgery: https://www.zeiss.com/meditec/int/home.html. The company is listed under the stock ticker AFX_X."
   ]
  },
  {
   "cell_type": "markdown",
   "metadata": {},
   "source": [
    "You can find the detailed Quandl API instructions here: https://docs.quandl.com/docs/time-series"
   ]
  },
  {
   "cell_type": "markdown",
   "metadata": {},
   "source": [
    "While there is a dedicated Python package for connecting to the Quandl API, we would prefer that you use the *requests* package, which can be easily downloaded using *pip* or *conda*. You can find the documentation for the package here: http://docs.python-requests.org/en/master/ "
   ]
  },
  {
   "cell_type": "markdown",
   "metadata": {},
   "source": [
    "Finally, apart from the *requests* package, you are encouraged to not use any third party Python packages, such as *pandas*, and instead focus on what's available in the Python Standard Library (the *collections* module might come in handy: https://pymotw.com/3/collections/ ).\n",
    "Also, since you won't have access to DataFrames, you are encouraged to us Python's native data structures - preferably dictionaries, though some questions can also be answered using lists.\n",
    "You can read more on these data structures here: https://docs.python.org/3/tutorial/datastructures.html"
   ]
  },
  {
   "cell_type": "markdown",
   "metadata": {},
   "source": [
    "Keep in mind that the JSON responses you will be getting from the API map almost one-to-one to Python's dictionaries. Unfortunately, they can be very nested, so make sure you read up on indexing dictionaries in the documentation provided above."
   ]
  },
  {
   "cell_type": "code",
   "execution_count": 2,
   "metadata": {
    "collapsed": true
   },
   "outputs": [],
   "source": [
    "# First, import the relevant modules\n",
    "# import requests for url requests\n",
    "import requests"
   ]
  },
  {
   "cell_type": "code",
   "execution_count": 3,
   "metadata": {
    "collapsed": true
   },
   "outputs": [
    {
     "name": "stdout",
     "output_type": "stream",
     "text": [
      "{'dataset': {'id': 10095370, 'dataset_code': 'AFX_X', 'database_code': 'FSE', 'name': 'Carl Zeiss Meditec (AFX_X)', 'description': 'Stock Prices for Carl Zeiss Meditec (2019-09-25) from the Frankfurt Stock Exchange.<br><br>Trading System: Xetra<br><br>ISIN: DE0005313704', 'refreshed_at': '2019-10-09T22:19:01.336Z', 'newest_available_date': '2019-10-09', 'oldest_available_date': '2000-06-07', 'column_names': ['Date', 'Open', 'High', 'Low', 'Close', 'Change', 'Traded Volume', 'Turnover', 'Last Price of the Day', 'Daily Traded Units', 'Daily Turnover'], 'frequency': 'daily', 'type': 'Time Series', 'premium': False, 'limit': 1, 'transform': None, 'column_index': None, 'start_date': '2000-06-07', 'end_date': '2019-10-09', 'data': [['2019-10-09', 106.3, 107.7, 105.5, 107.0, None, 94098.0, 10050758.0, None, None, None]], 'collapse': None, 'order': None, 'database_id': 6129}}\n"
     ]
    }
   ],
   "source": [
    "# Now, call the Quandl API and pull out a small sample of the data (only one day) to get a glimpse\n",
    "# into the JSON structure that will be returned\n",
    "\n",
    "# set limit=1 to only return one row/day\n",
    "url = 'https://www.quandl.com/api/v3/datasets/FSE/AFX_X.json?limit=1&api_key=' + API_KEY\n",
    "r = requests.get(url)\n",
    "json_data = r.json()\n",
    "print(json_data)"
   ]
  },
  {
   "cell_type": "code",
   "execution_count": null,
   "metadata": {
    "collapsed": true
   },
   "outputs": [],
   "source": [
    "# Inspect the JSON structure of the object you created, and take note of how nested it is,\n",
    "# as well as the overall structure\n",
    "\n",
    "# everything is inside the 'dataset' index\n",
    "# the column names are provided as a list in the 'column_names' index inside 'dataset'\n",
    "# the data is provided as separate lists for each day in the 'data' index inside 'dataset'"
   ]
  },
  {
   "cell_type": "markdown",
   "metadata": {},
   "source": [
    "These are your tasks for this mini project:\n",
    "\n",
    "1. Collect data from the Franfurt Stock Exchange, for the ticker AFX_X, for the whole year 2017 (keep in mind that the date format is YYYY-MM-DD).\n",
    "2. Convert the returned JSON object into a Python dictionary.\n",
    "3. Calculate what the highest and lowest opening prices were for the stock in this period.\n",
    "4. What was the largest change in any one day (based on High and Low price)?\n",
    "5. What was the largest change between any two days (based on Closing Price)?\n",
    "6. What was the average daily trading volume during this year?\n",
    "7. (Optional) What was the median trading volume during this year. (Note: you may need to implement your own function for calculating the median.)"
   ]
  },
  {
   "cell_type": "code",
   "execution_count": 4,
   "metadata": {
    "collapsed": true
   },
   "outputs": [
    {
     "name": "stdout",
     "output_type": "stream",
     "text": [
      "End Date:  2017-12-29\n",
      "Start Date:  2017-01-02\n"
     ]
    }
   ],
   "source": [
    "# Task 1: Collect the data for 2017\n",
    "\n",
    "# set the url with an easy to modify structure\n",
    "# set url_end to only retrive one day's worth of data by passing a variable/value\n",
    "url_start = 'https://www.quandl.com/api/v3/datasets/FSE/AFX_X.json'\n",
    "url_end = '?start_date=2017-01-01&end_date=2017-12-31&api_key=' + API_KEY\n",
    "url2 = url_start + url_end\n",
    "\n",
    "# create the request object\n",
    "r2 = requests.get(url2)\n",
    "\n",
    "# get the json data\n",
    "json_data = r2.json()\n",
    "\n",
    "# display the start and end date to verify the url only requested one day's worth of data\n",
    "# use the first date index and the last date index for verification\n",
    "print('End Date: ', json_data['dataset']['data'][0][0])\n",
    "print('Start Date: ', json_data['dataset']['data'][-1][0])"
   ]
  },
  {
   "cell_type": "code",
   "execution_count": 5,
   "metadata": {},
   "outputs": [],
   "source": [
    "# Task 2: Convert the data into a dictionary\n",
    "# column names are the keys\n",
    "# data are in lists nested below each key\n",
    "\n",
    "# store column names in a list to use as keys for the dictionary\n",
    "keys = json_data['dataset']['column_names']\n",
    "\n",
    "# store the data in a variable for easier processing\n",
    "data = json_data['dataset']['data']\n",
    "\n",
    "# extract the data each column becomes a list\n",
    "extracted_data = [[data[i][y] for i in range(len(data))] for y in range(len(keys))]\n",
    "\n",
    "# nest each column as the value of the associated column name (dictionary key)\n",
    "afx = {keys[y]: extracted_data[y] for y in range(len(keys))}"
   ]
  },
  {
   "cell_type": "code",
   "execution_count": 6,
   "metadata": {},
   "outputs": [
    {
     "name": "stdout",
     "output_type": "stream",
     "text": [
      "Max Opening Price for 2017:  $ 53.11\n",
      "Min Opening Price for 2017:  $ 34.00\n"
     ]
    }
   ],
   "source": [
    "# Task 3: Calculate the highest and lowest opening prices during this period\n",
    "\n",
    "# store the opening prices in a list\n",
    "op = afx['Open']\n",
    "\n",
    "# remove all of the 'None' values\n",
    "op_rmv = [i for i in op if i != None]\n",
    "\n",
    "# calculate the max and min values\n",
    "max_open = max(op_rmv)\n",
    "min_open = min(op_rmv)\n",
    "\n",
    "# format and print the answer\n",
    "print('Max Opening Price for 2017: ', '$' + \"{:6.2f}\".format(max_open))\n",
    "print('Min Opening Price for 2017: ', '$' + \"{:6.2f}\".format(min_open))"
   ]
  },
  {
   "cell_type": "code",
   "execution_count": 7,
   "metadata": {},
   "outputs": [
    {
     "name": "stdout",
     "output_type": "stream",
     "text": [
      "The largest change in one day was:  +2.8100000000000023\n"
     ]
    }
   ],
   "source": [
    "# Task 4: Calculate the largest change during one day\n",
    "# based on 'High' and 'Low' columns\n",
    "\n",
    "# calculate the change for each day and populate a list\n",
    "# selecting directly from the dictionary rather than creating new lists first\n",
    "change = [afx['High'][i] - afx['Low'][i] for i in range(len(afx['High']))]    \n",
    "\n",
    "# see if the greatest change was positive or negative for reporting\n",
    "pos_change = max(change)\n",
    "neg_change = min(change)\n",
    "\n",
    "# set the result of the greatest change\n",
    "if abs(pos_change) > abs(neg_change):\n",
    "    result = '+' + str(max(change))\n",
    "else:\n",
    "    result = min(change)\n",
    "\n",
    "# print the result\n",
    "print('The largest change in one day was: ', result)"
   ]
  },
  {
   "cell_type": "code",
   "execution_count": 8,
   "metadata": {},
   "outputs": [
    {
     "name": "stdout",
     "output_type": "stream",
     "text": [
      "The largest change in closing price between any two days in 2017 was:  -2.559999999999995\n"
     ]
    }
   ],
   "source": [
    "# Task 5: Calculate the largest change between any two consecutive closing prices\n",
    "# use the 'Close' column\n",
    "\n",
    "# assign the list in question to a variable to use in the list comprehension\n",
    "close = afx['Close']\n",
    "\n",
    "# generate a list of the changes between every set of days\n",
    "changes = [close[i]-close[i+1] for i in range(len(close)-1)]\n",
    "\n",
    "# check if the greatest change was positive or negative for reporting\n",
    "pos_change2 = max(changes)\n",
    "neg_change2 = min(changes)\n",
    "\n",
    "# set the result for the greatest change\n",
    "if abs(pos_change2) > abs(neg_change2):\n",
    "    result2 = '+' + str(max(changes))\n",
    "else:\n",
    "    result2 = min(changes)\n",
    "\n",
    "# print the result\n",
    "print('The largest change in closing price between any two days in 2017 was: ', result2)"
   ]
  },
  {
   "cell_type": "code",
   "execution_count": 9,
   "metadata": {},
   "outputs": [
    {
     "name": "stdout",
     "output_type": "stream",
     "text": [
      "The average daily trading volume for 2017 was:  89124.3\n"
     ]
    }
   ],
   "source": [
    "# Task 6: Calculate the average daily trading volume during 2017\n",
    "# use 'Traded Volume' column\n",
    "# could have used the mean() function from the statistics module\n",
    "# avoiding module useage in accordance with project guidelines\n",
    "\n",
    "vol = afx['Traded Volume']\n",
    "print('The average daily trading volume for 2017 was: ', round(sum(vol)/len(vol), 1))"
   ]
  },
  {
   "cell_type": "code",
   "execution_count": 10,
   "metadata": {},
   "outputs": [
    {
     "name": "stdout",
     "output_type": "stream",
     "text": [
      "The median daily trading volume for 2017 was:  76286.0\n"
     ]
    }
   ],
   "source": [
    "# Task 7: Calculate the median trading volume for 2017\n",
    "# need index=127 on the ranked data\n",
    "\n",
    "# store the index value for the median when the data are ranked\n",
    "idx = len(vol)//2\n",
    "\n",
    "# sort the list of volumes\n",
    "vol_sort = sorted(vol)\n",
    "\n",
    "# access the median value\n",
    "med_vol = vol_sort[idx]\n",
    "\n",
    "# print the result\n",
    "print('The median daily trading volume for 2017 was: ', med_vol)"
   ]
  },
  {
   "cell_type": "code",
   "execution_count": null,
   "metadata": {},
   "outputs": [],
   "source": []
  }
 ],
 "metadata": {
  "kernelspec": {
   "display_name": "Python 3",
   "language": "python",
   "name": "python3"
  },
  "language_info": {
   "codemirror_mode": {
    "name": "ipython",
    "version": 3
   },
   "file_extension": ".py",
   "mimetype": "text/x-python",
   "name": "python",
   "nbconvert_exporter": "python",
   "pygments_lexer": "ipython3",
   "version": "3.7.3"
  }
 },
 "nbformat": 4,
 "nbformat_minor": 2
}
